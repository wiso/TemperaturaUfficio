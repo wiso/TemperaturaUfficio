{
 "cells": [
  {
   "cell_type": "code",
   "execution_count": null,
   "metadata": {},
   "outputs": [],
   "source": [
    "import pandas as pd\n",
    "import datetime\n",
    "import numpy as np\n",
    "\n",
    "from plot import remove_begin_end, read_file, get_files, get_weather_data\n",
    "list_of_files = get_files()"
   ]
  },
  {
   "cell_type": "code",
   "execution_count": null,
   "metadata": {},
   "outputs": [],
   "source": [
    "data = [remove_begin_end(read_file(filename)) for filename in list_of_files]\n",
    "data = pd.concat(data).sort_index()\n",
    "data.index.min(), data.index.max()"
   ]
  },
  {
   "cell_type": "code",
   "execution_count": null,
   "metadata": {},
   "outputs": [],
   "source": [
    "df_weather = get_weather_data().sort_index()\n",
    "df_weather = df_weather.loc[\n",
    "        (df_weather.index > data.index.min()) & (df_weather.index < data.index.max())\n",
    "    ]"
   ]
  },
  {
   "cell_type": "code",
   "execution_count": null,
   "metadata": {},
   "outputs": [],
   "source": [
    "diff_index = np.diff(data.index)\n",
    "mask_index_step = diff_index > pd.Timedelta(30, 'minutes')\n",
    "mask_index_step = np.append(mask_index_step, [False])\n",
    "data[mask_index_step]"
   ]
  },
  {
   "cell_type": "code",
   "execution_count": null,
   "metadata": {},
   "outputs": [],
   "source": [
    "data_raw = [read_file(filename) for filename in list_of_files]\n",
    "data_raw = pd.concat(data_raw).sort_index()"
   ]
  },
  {
   "cell_type": "code",
   "execution_count": null,
   "metadata": {},
   "outputs": [],
   "source": [
    "len(data), len(data_raw)"
   ]
  },
  {
   "cell_type": "code",
   "execution_count": null,
   "metadata": {},
   "outputs": [],
   "source": [
    "data_smooth = data.rolling(window='5min').mean().round(2)\n",
    "data_smooth = data_smooth[data_smooth['temperature'].diff() != 0]\n",
    "len(data_smooth)"
   ]
  },
  {
   "cell_type": "code",
   "execution_count": null,
   "metadata": {},
   "outputs": [],
   "source": [
    "#notes = pd.read_csv('data/notes.txt', header=None, sep=' ', parse_dates=[[0, 1]])\n",
    "#notes = notes.set_index(\"0_1\")\n",
    "#notes"
   ]
  },
  {
   "cell_type": "code",
   "execution_count": null,
   "metadata": {},
   "outputs": [],
   "source": [
    "from scipy.optimize import curve_fit\n",
    "import numpy as np\n",
    "\n",
    "def myexp(t, a, b, c):\n",
    "    return a * np.exp(-t / b) + c\n",
    "\n",
    "def mylin(t, a, b):\n",
    "    return a + b * t\n",
    "\n",
    "\n",
    "def fit_span(series, function, p0):\n",
    "    start = series.index.min()\n",
    "    x = series.index - start\n",
    "    x = x.seconds\n",
    "    y = series.values\n",
    "    yinf = series.iloc[-1]\n",
    "    \n",
    "    popt, pcov = curve_fit(function, x, y, p0=p0)\n",
    "    \n",
    "    return popt, pcov"
   ]
  },
  {
   "cell_type": "code",
   "execution_count": null,
   "metadata": {},
   "outputs": [],
   "source": [
    "# riscaldamento 0.25 K/h - 0.44 K/h\n",
    "# exp b = 1.44625327e+04, 1.04721363e+04"
   ]
  },
  {
   "cell_type": "code",
   "execution_count": null,
   "metadata": {},
   "outputs": [],
   "source": [
    "import plotly.express as px\n",
    "from plotly.subplots import make_subplots\n",
    "import plotly.graph_objects as go\n",
    "\n",
    "\n",
    "fig = make_subplots(specs=[[{\"secondary_y\": True}]])\n",
    "fig.add_trace(\n",
    "    go.Scatter(x=data_raw.index, y=data_raw.temperature, name=\"temperature raw\"),\n",
    "    secondary_y=False,\n",
    ")\n",
    "\n",
    "fig.add_trace(\n",
    "    go.Scatter(x=data_smooth.index, y=data_smooth.temperature, name=\"temperature\", line_color='#EF553B'),\n",
    "    secondary_y=False,\n",
    ")\n",
    "fig.add_trace(\n",
    "    go.Scatter(x=data_smooth.index, y=data_smooth.humidity, name=\"humidity\", line_color='#202AB6', visible='legendonly'),\n",
    "    secondary_y=True,\n",
    "    \n",
    ")\n",
    "\n",
    "fig.add_trace(\n",
    "    go.Scatter(x=df_weather.index, y=df_weather['temperature_2m'], visible='legendonly', name='ext temperature'))\n",
    "\n",
    "\n",
    "# Set y-axes titles\n",
    "fig.update_yaxes(title_text=\"temperature (°C)\", ticklen=10, linewidth=1, linecolor=\"white\", tickcolor=\"white\", ticks='inside', secondary_y=False, mirror=True, showline=True, minor=dict(ticklen=6, tickcolor=\"white\", ticks='inside', showgrid=True))\n",
    "fig.update_yaxes(title_text=\"humidity (%)\", ticklen=10, tickcolor=\"white\", ticks='inside', secondary_y=True, showgrid=False, zeroline=False, minor=dict(ticklen=6, tickcolor=\"white\", ticks='inside', showgrid=False))\n",
    "fig.update_xaxes(ticklen=10, linewidth=1, linecolor=\"white\", tickcolor=\"white\", ticks='inside', showline=True, mirror='all')\n",
    "\n",
    "\n",
    "fit_timeranges = [\n",
    "#    (datetime.datetime(2022, 12, 6, 15, 4), datetime.datetime(2022, 12, 6, 22, 0), myexp),\n",
    "#    (datetime.datetime(2022, 12, 7, 8, 17), datetime.datetime(2022, 12, 7, 16, 57), myexp), \n",
    "#    (datetime.datetime(2022, 12, 11, 9, 43), datetime.datetime(2022, 12, 11, 11, 47), mylin),\n",
    "#    (datetime.datetime(2022, 12, 12, 9, 30), datetime.datetime(2022, 12, 12, 12, 40), mylin)\n",
    "]\n",
    "fit_results = []\n",
    "\n",
    "for start, stop, function in fit_timeranges:\n",
    "    start = pd.Timestamp(start).tz_localize(LOCAL_TIMEZONE)\n",
    "    stop = pd.Timestamp(stop).tz_localize(LOCAL_TIMEZONE)\n",
    "    data_to_fit_mask = (data.index > start) & (data.index < stop)\n",
    "    data_to_fit = data[data_to_fit_mask]['temperature']\n",
    "\n",
    "    if function == myexp:\n",
    "        p0 = (data_to_fit.iloc[0] - data_to_fit.iloc[-1], 15000, data_to_fit.iloc[-1])\n",
    "    else:\n",
    "        p0 = (20, 1E-5)\n",
    "    popt, pcov = fit_span(data_to_fit, function, p0=p0)\n",
    "    print(popt)\n",
    "\n",
    "    xspan_seconds = np.linspace(0, (data_to_fit.index.max() - data_to_fit.index.min()).seconds, 100)\n",
    "    yfit = function(xspan_seconds, *popt)\n",
    "    xspan_time = data_to_fit.index.min() + pd.TimedeltaIndex(xspan_seconds, 's')\n",
    "    fig.add_trace(\n",
    "        go.Scatter(x=xspan_time, y=yfit, showlegend=False, hoverinfo='none'),\n",
    "    secondary_y=False\n",
    ")\n",
    "    \n",
    "    fit_results.append(popt)\n",
    "    \n",
    "mask_working_hours = (data.index.time < datetime.time(19, 0, 0))\n",
    "mask_working_hours &= (data.index.time > datetime.time(7, 0, 0))\n",
    "mask_working_hours &= data.index.weekday < 5\n",
    "\n",
    "data_working = data[mask_working_hours]\n",
    "\n",
    "df = data_working.groupby(data_working.index.date)['temperature'].agg([min, max, 'first', 'last'])\n",
    "    \n",
    "fig.add_trace(go.Candlestick(x=pd.DatetimeIndex(df.index)+ datetime.timedelta(hours=13),\n",
    "                                     close=df['max'],\n",
    "                                     open=df['min'],\n",
    "                                     high=df['max'],\n",
    "                                     low=df['min'],\n",
    "                             name='Min/Max in working days 7-19'\n",
    "                ))\n",
    "\n",
    "for v in pd.date_range(data.index.min(), data.index.max(), freq='D', normalize=True)[1:]:\n",
    "    fig.add_vline(v, line_dash='dot', line_color='#777')\n",
    "\n",
    "fig.update_layout(xaxis_rangeslider_visible=False)\n",
    "\n",
    "fig.update_layout(legend=dict(\n",
    "    orientation=\"h\",\n",
    "    yanchor=\"bottom\",\n",
    "    y=1.02,\n",
    "    xanchor=\"left\",\n",
    "    x=0.\n",
    "    ),\n",
    "    template='plotly_dark'\n",
    ")\n",
    "    \n",
    "\n",
    "fig.show()"
   ]
  },
  {
   "cell_type": "code",
   "execution_count": null,
   "metadata": {},
   "outputs": [],
   "source": [
    "#fig = make_subplots(specs=[[{\"secondary_y\": True}]])\n",
    "fig = go.FigureWidget()\n",
    "fig.layout.hovermode = 'closest'\n",
    "fig.layout.hoverdistance = -1 #ensures no \"gaps\" for selecting sparse data\n",
    "\n",
    "\n",
    "default_linewidth = 2\n",
    "highlighted_linewidth_delta = 1\n",
    "for k, v in data_working.groupby(data_working.index.date)['temperature']:\n",
    "    x = [datetime.datetime.combine(datetime.date.today(), x) for x in v.index.time]\n",
    "    trace = go.Scatter(x=x, y=v.values - v.mean(), name=str(k), line_color='rgba(255, 0, 0, 0.3)', mode='lines', line={'width': default_linewidth})\n",
    "    fig.add_trace(trace)\n",
    "\n",
    "\n",
    "fig.update_layout(template='plotly_dark', showlegend=False)\n",
    "fig.update_xaxes(ticklen=10, linewidth=1, linecolor=\"white\", tickcolor=\"white\", ticks='inside', showline=True, mirror='all')\n",
    "fig.update_yaxes(ticklen=10, linewidth=1, linecolor=\"white\", tickcolor=\"white\", ticks='inside', mirror='all', title_text=\"temperature - mean temperature (°C)\", showline=True, minor=dict(ticklen=6, tickcolor=\"white\", ticks='inside', showgrid=True))\n",
    "\n",
    "# our custom event handler\n",
    "def update_trace(trace, points, selector):\n",
    "    # this list stores the points which were clicked on\n",
    "    # in all but one trace they are empty\n",
    "    if len(points.point_inds) == 0:\n",
    "        return\n",
    "        \n",
    "    for i,_ in enumerate(fig.data):\n",
    "        fig.data[i]['line']['width'] = default_linewidth + highlighted_linewidth_delta * (i == points.trace_index)\n",
    "        fig.data[i]['line']['color'] = 'white' if (i == points.trace_index) else 'rgba(255, 0, 0, 0.3)'\n",
    "\n",
    "\n",
    "\n",
    "# we need to add the on_click event to each trace separately       \n",
    "for i in range( len(fig.data) ):\n",
    "    fig.data[i].on_hover(update_trace)\n",
    "\n",
    "fig.write_html('test.html')\n",
    "fig"
   ]
  },
  {
   "cell_type": "code",
   "execution_count": null,
   "metadata": {},
   "outputs": [],
   "source": [
    "fig = make_subplots(specs=[[{'type': 'polar'}]])\n",
    "for is_working_day, df in data.groupby(data.index.weekday < 5):\n",
    "    name = {True: 'business', False: 'weekend'}[is_working_day]\n",
    "    fig.add_trace(go.Scatterpolar(r=df.temperature,\n",
    "                                  name=name, opacity=0.5,\n",
    "                                  theta=(df.index - df.index.normalize()).seconds / (24 * 3600) * 360))\n",
    "                             \n",
    "fig.update_layout(\n",
    "    width=750, height=750,\n",
    "    template='plotly_dark',\n",
    "    polar = dict(\n",
    "        radialaxis_range=[data.temperature.min(), 26],\n",
    "        angularaxis=dict(\n",
    "            tickvals = [hr / 24 * 360 for hr in range(24)],\n",
    "            ticktext = [str(x) for x in range(24)]\n",
    "        )\n",
    "    ))\n",
    "\n",
    "fig.show()"
   ]
  },
  {
   "cell_type": "code",
   "execution_count": null,
   "metadata": {},
   "outputs": [],
   "source": []
  },
  {
   "cell_type": "code",
   "execution_count": null,
   "metadata": {},
   "outputs": [],
   "source": [
    "weather_data.keys()"
   ]
  },
  {
   "cell_type": "code",
   "execution_count": null,
   "metadata": {},
   "outputs": [],
   "source": [
    "fig = make_subplots(specs=[[{'type': 'polar'}]])\n",
    "fig.add_trace(go.Scatter(x=weather_data['hourly']['time'], y=weather_data['hourly']['temperature_2m']))\n",
    "\n"
   ]
  }
 ],
 "metadata": {
  "kernelspec": {
   "display_name": "mambda_python3",
   "language": "python",
   "name": "mambda_python3"
  },
  "language_info": {
   "codemirror_mode": {
    "name": "ipython",
    "version": 3
   },
   "file_extension": ".py",
   "mimetype": "text/x-python",
   "name": "python",
   "nbconvert_exporter": "python",
   "pygments_lexer": "ipython3",
   "version": "3.9.16"
  }
 },
 "nbformat": 4,
 "nbformat_minor": 4
}
