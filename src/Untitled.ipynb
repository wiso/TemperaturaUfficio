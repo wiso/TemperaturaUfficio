{
 "cells": [
  {
   "cell_type": "code",
   "execution_count": null,
   "metadata": {},
   "outputs": [],
   "source": [
    "import pandas as pd\n",
    "import re\n",
    "import os\n",
    "from glob import glob\n",
    "from io import StringIO\n",
    "from matplotlib import pyplot as plt\n",
    "import datetime\n",
    "import requests\n",
    "import shutil\n",
    "LOCAL_TIMEZONE = datetime.datetime.now(datetime.timezone.utc).astimezone().tzinfo"
   ]
  },
  {
   "cell_type": "code",
   "execution_count": null,
   "metadata": {},
   "outputs": [],
   "source": [
    "data = [remove_begin_end(read_file(filename)) for filename in list_of_files]\n",
    "data = pd.concat(data)\n",
    "data.index.min(), data.index.max()"
   ]
  },
  {
   "cell_type": "code",
   "execution_count": null,
   "metadata": {},
   "outputs": [],
   "source": [
    "data_raw = [read_file(filename) for filename in list_of_files]\n",
    "data_raw = pd.concat(data_raw)"
   ]
  },
  {
   "cell_type": "code",
   "execution_count": null,
   "metadata": {},
   "outputs": [],
   "source": [
    "len(data), len(data_raw)"
   ]
  },
  {
   "cell_type": "code",
   "execution_count": null,
   "metadata": {},
   "outputs": [],
   "source": [
    "#notes = pd.read_csv('data/notes.txt', header=None, sep=' ', parse_dates=[[0, 1]])\n",
    "#notes = notes.set_index(\"0_1\")\n",
    "#notes"
   ]
  },
  {
   "cell_type": "code",
   "execution_count": null,
   "metadata": {},
   "outputs": [],
   "source": [
    "from scipy.optimize import curve_fit\n",
    "import numpy as np\n",
    "\n",
    "def myexp(t, a, b, c):\n",
    "    return a * np.exp(-t / b) + c\n",
    "\n",
    "def mylin(t, a, b):\n",
    "    return a + b * t\n",
    "\n",
    "\n",
    "def fit_span(series, function, p0):\n",
    "    start = series.index.min()\n",
    "    x = series.index - start\n",
    "    x = x.seconds\n",
    "    y = series.values\n",
    "    yinf = series.iloc[-1]\n",
    "    \n",
    "    popt, pcov = curve_fit(function, x, y, p0=p0)\n",
    "    \n",
    "    return popt, pcov"
   ]
  },
  {
   "cell_type": "code",
   "execution_count": null,
   "metadata": {},
   "outputs": [],
   "source": [
    "# riscaldamento 0.25 K/h - 0.44 K/h\n",
    "# exp b = 1.44625327e+04, 1.04721363e+04"
   ]
  },
  {
   "cell_type": "code",
   "execution_count": null,
   "metadata": {},
   "outputs": [],
   "source": [
    "import plotly.express as px\n",
    "from plotly.subplots import make_subplots\n",
    "import plotly.graph_objects as go\n",
    "\n",
    "\n",
    "fig = make_subplots(specs=[[{\"secondary_y\": True}]])\n",
    "fig.update_layout(template='plotly_white')\n",
    "#fig.add_trace(\n",
    "#    go.Scatter(x=data.index, y=data.temperature, name=\"temperature\"),\n",
    "#    secondary_y=False,\n",
    "#)\n",
    "\n",
    "fig.add_trace(\n",
    "    go.Scatter(x=data_raw.index, y=data_raw.temperature, name=\"temperature r\"),\n",
    "    secondary_y=False,\n",
    ")\n",
    "\n",
    "fig.add_trace(\n",
    "    go.Scatter(x=data.index, y=data.humidity, name=\"humidity\"),\n",
    "    secondary_y=True,\n",
    ")\n",
    "\n",
    "fig.update_xaxes(title_text=\"date\")\n",
    "\n",
    "# Set y-axes titles\n",
    "fig.update_yaxes(title_text=\"temperature\", secondary_y=False)\n",
    "fig.update_yaxes(title_text=\"humidity\", secondary_y=True)\n",
    "\n",
    "\n",
    "\n",
    "fit_timeranges = [\n",
    "#    (datetime.datetime(2022, 12, 6, 15, 4), datetime.datetime(2022, 12, 6, 22, 0), myexp),\n",
    "#    (datetime.datetime(2022, 12, 7, 8, 17), datetime.datetime(2022, 12, 7, 16, 57), myexp), \n",
    "#    (datetime.datetime(2022, 12, 11, 9, 43), datetime.datetime(2022, 12, 11, 11, 47), mylin),\n",
    "#    (datetime.datetime(2022, 12, 12, 9, 30), datetime.datetime(2022, 12, 12, 12, 40), mylin)\n",
    "]\n",
    "fit_results = []\n",
    "\n",
    "for start, stop, function in fit_timeranges:\n",
    "    start = pd.Timestamp(start).tz_localize(LOCAL_TIMEZONE)\n",
    "    stop = pd.Timestamp(stop).tz_localize(LOCAL_TIMEZONE)\n",
    "    data_to_fit_mask = (data.index > start) & (data.index < stop)\n",
    "    data_to_fit = data[data_to_fit_mask]['temperature']\n",
    "\n",
    "    if function == myexp:\n",
    "        p0 = (data_to_fit.iloc[0] - data_to_fit.iloc[-1], 15000, data_to_fit.iloc[-1])\n",
    "    else:\n",
    "        p0 = (20, 1E-5)\n",
    "    popt, pcov = fit_span(data_to_fit, function, p0=p0)\n",
    "    print(popt)\n",
    "\n",
    "    xspan_seconds = np.linspace(0, (data_to_fit.index.max() - data_to_fit.index.min()).seconds, 100)\n",
    "    yfit = function(xspan_seconds, *popt)\n",
    "    xspan_time = data_to_fit.index.min() + pd.TimedeltaIndex(xspan_seconds, 's')\n",
    "    fig.add_trace(\n",
    "        go.Scatter(x=xspan_time, y=yfit, showlegend=False, hoverinfo='none'),\n",
    "    secondary_y=False\n",
    ")\n",
    "    \n",
    "    fit_results.append(popt)\n",
    "\n",
    "for v in pd.date_range(data.index.min(), data.index.max(), freq='D', normalize=True)[1:]:\n",
    "    fig.add_vline(v, line_dash='dot')\n",
    "    \n",
    "fig.show()"
   ]
  },
  {
   "cell_type": "code",
   "execution_count": null,
   "metadata": {},
   "outputs": [],
   "source": [
    "fig.write_html('plot.html')"
   ]
  },
  {
   "cell_type": "code",
   "execution_count": null,
   "metadata": {},
   "outputs": [],
   "source": [
    "import chart_studio.plotly as py\n",
    "import chart_studio\n",
    "py.plot(fig)"
   ]
  },
  {
   "cell_type": "code",
   "execution_count": null,
   "metadata": {},
   "outputs": [],
   "source": []
  }
 ],
 "metadata": {
  "kernelspec": {
   "display_name": "mambda_python3",
   "language": "python",
   "name": "mambda_python3"
  },
  "language_info": {
   "codemirror_mode": {
    "name": "ipython",
    "version": 3
   },
   "file_extension": ".py",
   "mimetype": "text/x-python",
   "name": "python",
   "nbconvert_exporter": "python",
   "pygments_lexer": "ipython3",
   "version": "3.9.15"
  }
 },
 "nbformat": 4,
 "nbformat_minor": 4
}
