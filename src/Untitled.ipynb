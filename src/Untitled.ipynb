{
 "cells": [
  {
   "cell_type": "code",
   "execution_count": null,
   "metadata": {},
   "outputs": [],
   "source": [
    "import pandas as pd\n",
    "import datetime\n",
    "\n",
    "from plot import remove_begin_end, read_file, get_files"
   ]
  },
  {
   "cell_type": "code",
   "execution_count": null,
   "metadata": {},
   "outputs": [],
   "source": [
    "list_of_files = get_files()\n",
    "data = [remove_begin_end(read_file(filename)) for filename in list_of_files]\n",
    "data = pd.concat(data).sort_index()\n",
    "data.index.min(), data.index.max()"
   ]
  },
  {
   "cell_type": "code",
   "execution_count": null,
   "metadata": {},
   "outputs": [],
   "source": [
    "data_raw = [read_file(filename) for filename in list_of_files]\n",
    "data_raw = pd.concat(data_raw).sort_index()"
   ]
  },
  {
   "cell_type": "code",
   "execution_count": null,
   "metadata": {},
   "outputs": [],
   "source": [
    "len(data), len(data_raw)"
   ]
  },
  {
   "cell_type": "code",
   "execution_count": null,
   "metadata": {},
   "outputs": [],
   "source": [
    "#notes = pd.read_csv('data/notes.txt', header=None, sep=' ', parse_dates=[[0, 1]])\n",
    "#notes = notes.set_index(\"0_1\")\n",
    "#notes"
   ]
  },
  {
   "cell_type": "code",
   "execution_count": null,
   "metadata": {},
   "outputs": [],
   "source": [
    "from scipy.optimize import curve_fit\n",
    "import numpy as np\n",
    "\n",
    "def myexp(t, a, b, c):\n",
    "    return a * np.exp(-t / b) + c\n",
    "\n",
    "def mylin(t, a, b):\n",
    "    return a + b * t\n",
    "\n",
    "\n",
    "def fit_span(series, function, p0):\n",
    "    start = series.index.min()\n",
    "    x = series.index - start\n",
    "    x = x.seconds\n",
    "    y = series.values\n",
    "    yinf = series.iloc[-1]\n",
    "    \n",
    "    popt, pcov = curve_fit(function, x, y, p0=p0)\n",
    "    \n",
    "    return popt, pcov"
   ]
  },
  {
   "cell_type": "code",
   "execution_count": null,
   "metadata": {},
   "outputs": [],
   "source": [
    "# riscaldamento 0.25 K/h - 0.44 K/h\n",
    "# exp b = 1.44625327e+04, 1.04721363e+04"
   ]
  },
  {
   "cell_type": "code",
   "execution_count": null,
   "metadata": {},
   "outputs": [],
   "source": [
    "import plotly.express as px\n",
    "from plotly.subplots import make_subplots\n",
    "import plotly.graph_objects as go\n",
    "\n",
    "\n",
    "fig = make_subplots(specs=[[{\"secondary_y\": True}]])\n",
    "fig.update_layout(template='plotly_dark')\n",
    "#fig.add_trace(\n",
    "#    go.Scatter(x=data.index, y=data.temperature, name=\"temperature\"),\n",
    "#    secondary_y=False,\n",
    "#)\n",
    "\n",
    "fig.add_trace(\n",
    "    go.Scatter(x=data.index, y=data.humidity, name=\"humidity\", line_color='#202AB6'),\n",
    "    secondary_y=True,\n",
    ")\n",
    "\n",
    "fig.add_trace(\n",
    "    go.Scatter(x=data.index, y=data.temperature, name=\"temperature r\", line_color='#EF553B'),\n",
    "    secondary_y=False,\n",
    ")\n",
    "\n",
    "\n",
    "\n",
    "# Set y-axes titles\n",
    "fig.update_yaxes(title_text=\"temperature\", ticklen=10, linewidth=1, linecolor=\"white\", tickcolor=\"white\", ticks='inside', secondary_y=False, mirror=True, showline=True, minor=dict(ticklen=6, tickcolor=\"white\", ticks='inside', showgrid=True))\n",
    "fig.update_yaxes(title_text=\"humidity\", ticklen=10, tickcolor=\"white\", ticks='inside', secondary_y=True, showgrid=False, minor=dict(ticklen=6, tickcolor=\"white\", ticks='inside', showgrid=False))\n",
    "fig.update_xaxes(ticklen=10, linewidth=1, linecolor=\"white\", tickcolor=\"white\", ticks='inside', showline=True, mirror='all')\n",
    "\n",
    "\n",
    "fit_timeranges = [\n",
    "#    (datetime.datetime(2022, 12, 6, 15, 4), datetime.datetime(2022, 12, 6, 22, 0), myexp),\n",
    "#    (datetime.datetime(2022, 12, 7, 8, 17), datetime.datetime(2022, 12, 7, 16, 57), myexp), \n",
    "#    (datetime.datetime(2022, 12, 11, 9, 43), datetime.datetime(2022, 12, 11, 11, 47), mylin),\n",
    "#    (datetime.datetime(2022, 12, 12, 9, 30), datetime.datetime(2022, 12, 12, 12, 40), mylin)\n",
    "]\n",
    "fit_results = []\n",
    "\n",
    "for start, stop, function in fit_timeranges:\n",
    "    start = pd.Timestamp(start).tz_localize(LOCAL_TIMEZONE)\n",
    "    stop = pd.Timestamp(stop).tz_localize(LOCAL_TIMEZONE)\n",
    "    data_to_fit_mask = (data.index > start) & (data.index < stop)\n",
    "    data_to_fit = data[data_to_fit_mask]['temperature']\n",
    "\n",
    "    if function == myexp:\n",
    "        p0 = (data_to_fit.iloc[0] - data_to_fit.iloc[-1], 15000, data_to_fit.iloc[-1])\n",
    "    else:\n",
    "        p0 = (20, 1E-5)\n",
    "    popt, pcov = fit_span(data_to_fit, function, p0=p0)\n",
    "    print(popt)\n",
    "\n",
    "    xspan_seconds = np.linspace(0, (data_to_fit.index.max() - data_to_fit.index.min()).seconds, 100)\n",
    "    yfit = function(xspan_seconds, *popt)\n",
    "    xspan_time = data_to_fit.index.min() + pd.TimedeltaIndex(xspan_seconds, 's')\n",
    "    fig.add_trace(\n",
    "        go.Scatter(x=xspan_time, y=yfit, showlegend=False, hoverinfo='none'),\n",
    "    secondary_y=False\n",
    ")\n",
    "    \n",
    "    fit_results.append(popt)\n",
    "\n",
    "for v in pd.date_range(data.index.min(), data.index.max(), freq='D', normalize=True)[1:]:\n",
    "    fig.add_vline(v, line_dash='dot', line_color='#777')\n",
    "    \n",
    "fig.show()"
   ]
  },
  {
   "cell_type": "code",
   "execution_count": null,
   "metadata": {},
   "outputs": [],
   "source": [
    "import chart_studio.plotly as py\n",
    "import chart_studio\n",
    "py.plot(fig)"
   ]
  },
  {
   "cell_type": "code",
   "execution_count": null,
   "metadata": {},
   "outputs": [],
   "source": []
  }
 ],
 "metadata": {
  "kernelspec": {
   "display_name": "mambda_python3",
   "language": "python",
   "name": "mambda_python3"
  },
  "language_info": {
   "codemirror_mode": {
    "name": "ipython",
    "version": 3
   },
   "file_extension": ".py",
   "mimetype": "text/x-python",
   "name": "python",
   "nbconvert_exporter": "python",
   "pygments_lexer": "ipython3",
   "version": "3.9.15"
  }
 },
 "nbformat": 4,
 "nbformat_minor": 4
}
